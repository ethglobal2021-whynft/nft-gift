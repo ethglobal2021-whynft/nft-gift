{
 "cells": [
  {
   "cell_type": "code",
   "execution_count": 19,
   "metadata": {},
   "outputs": [],
   "source": [
    "import os\n",
    "import json\n",
    "import requests"
   ]
  },
  {
   "cell_type": "code",
   "execution_count": 20,
   "metadata": {},
   "outputs": [],
   "source": [
    "%matplotlib inline\n",
    "%config Completer.use_jedi = False"
   ]
  },
  {
   "cell_type": "code",
   "execution_count": 270,
   "metadata": {},
   "outputs": [],
   "source": [
    "link = \"https://rinkeby.rarible.com/token/0x509fd4cdaa29be7b1fad251d8ea0fca2ca91eb60:111767?tab=details\"\n",
    "numbers = link.split('/')[-1].split(':')\n",
    "contract, token = numbers[0], numbers[1].split('?')[0]"
   ]
  },
  {
   "cell_type": "code",
   "execution_count": 275,
   "metadata": {},
   "outputs": [
    {
     "data": {
      "text/plain": [
       "('0x509fd4cdaa29be7b1fad251d8ea0fca2ca91eb60', '111767')"
      ]
     },
     "execution_count": 275,
     "metadata": {},
     "output_type": "execute_result"
    }
   ],
   "source": [
    "contract, token"
   ]
  },
  {
   "cell_type": "code",
   "execution_count": 253,
   "metadata": {},
   "outputs": [],
   "source": [
    "data = {\n",
    "    \"debug\": \"NO\",\n",
    "    \"private_ext\": TEST_BACK_PRIVATE\n",
    "}\n",
    "r = requests.post(\"http://localhost:8001/deploy\", json=data)"
   ]
  },
  {
   "cell_type": "code",
   "execution_count": 258,
   "metadata": {},
   "outputs": [
    {
     "data": {
      "text/plain": [
       "'0xd4Ba7daA7F3A5DbE2453210C4D458959687C20a6'"
      ]
     },
     "execution_count": 258,
     "metadata": {},
     "output_type": "execute_result"
    }
   ],
   "source": [
    "transfer_contract = json.loads(r.content.decode())[\"link\"]\n",
    "transfer_contract"
   ]
  },
  {
   "cell_type": "code",
   "execution_count": 260,
   "metadata": {},
   "outputs": [],
   "source": [
    "# add permission to contract (and only to the one) call transfer (so permission from nft owner),\n",
    "# PS. it is possible to combine with the following (but no win?)"
   ]
  },
  {
   "cell_type": "code",
   "execution_count": 276,
   "metadata": {},
   "outputs": [],
   "source": [
    "data = {\n",
    "    \"nft_contract\": contract,\n",
    "    \"owner_address\": transfer_contract,\n",
    "    \"token\": token,\n",
    "    \"debug\": \"NO\",\n",
    "    \"private_ext\": DEFAULT_TESTNET_SENDER_PRIVATE_KEY\n",
    "}\n",
    "r = requests.post(\"http://localhost:8001/permission\", json=data)"
   ]
  },
  {
   "cell_type": "code",
   "execution_count": 277,
   "metadata": {},
   "outputs": [],
   "source": [
    "# set up pasword hash stright into contarct\n",
    "# so, the password may know only sender and receiver: no need to trust to our back-end\n",
    "data = {\n",
    "    \"transfer_contract\": transfer_contract,\n",
    "    \"password\": \"TEST_PASSWORD\",\n",
    "    \"nft_contract\": contract,\n",
    "    \"token\": token,\n",
    "    \"private_ext\": DEFAULT_TESTNET_SENDER_PRIVATE_KEY\n",
    "}\n",
    "r = requests.post(\"http://localhost:8001/setpassword\", json=data)"
   ]
  },
  {
   "cell_type": "code",
   "execution_count": 278,
   "metadata": {},
   "outputs": [],
   "source": [
    "# book a gift for a receiver.\n",
    "# We do it centralized with our back-end, so backend validate that receiver is preferable that sender wanted to (e.g. with help of created password)\n",
    "# We send money (per gas) to the validated receiver (to his public address)\n",
    "data = {\n",
    "    \"transfer_contract\": transfer_contract,\n",
    "    \"receiver\": MY_ACC_ADDRESS,\n",
    "    \"nft_contract\": contract,\n",
    "    \"token\": token,\n",
    "    \"private_ext\": TEST_BACK_PRIVATE\n",
    "}\n",
    "r = requests.post(\"http://localhost:8001/book\", json=data)"
   ]
  },
  {
   "cell_type": "code",
   "execution_count": null,
   "metadata": {},
   "outputs": [],
   "source": []
  },
  {
   "cell_type": "code",
   "execution_count": 283,
   "metadata": {},
   "outputs": [],
   "source": [
    "# do the transfer to receiver address.\n",
    "# It may be called local from receiver frontend coz we sent him money\n",
    "data = {\n",
    "    \"transfer_contract\": transfer_contract,\n",
    "    \"receiver\": MY_ACC_ADDRESS,\n",
    "    \"sender\": DEFAULT_TESTNET_SENDER_ADDRESS,\n",
    "    \"nft_contract\": contract,\n",
    "    \"token\": token,\n",
    "    \"password\": \"TEST_PASSWORD\",\n",
    "    \"private_ext\": MY_ACC_PRIVATE\n",
    "}\n",
    "r = requests.post(\"http://localhost:8001/dtransfer\", json=data)"
   ]
  },
  {
   "cell_type": "code",
   "execution_count": null,
   "metadata": {},
   "outputs": [],
   "source": []
  }
 ],
 "metadata": {
  "kernelspec": {
   "display_name": "Python 3",
   "language": "python",
   "name": "python3"
  },
  "language_info": {
   "codemirror_mode": {
    "name": "ipython",
    "version": 3
   },
   "file_extension": ".py",
   "mimetype": "text/x-python",
   "name": "python",
   "nbconvert_exporter": "python",
   "pygments_lexer": "ipython3",
   "version": "3.9.6"
  }
 },
 "nbformat": 4,
 "nbformat_minor": 4
}
