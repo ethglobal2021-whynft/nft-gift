{
 "cells": [
  {
   "cell_type": "markdown",
   "metadata": {},
   "source": [
    "## Solution: \n",
    "our solution consists of two parts: special smart contract and backend. \n",
    "\n",
    "The key point in contract is that only smart contract will be granted to make transfer, thus, centralized part remains trustless. \n",
    "\n",
    "The backend denies all permissions to transfer to wrong address and only proxies special password to the smart contract to perform transfer checking password hash\n",
    "\n",
    "Backend consists of js blockchain callers (here we use rarible ERC721ABI and rarible wrapper of  \"safeTransferFrom\" method) and local database to track & match pending gifts. Client part uses pure js code."
   ]
  },
  {
   "cell_type": "code",
   "execution_count": 1,
   "metadata": {},
   "outputs": [],
   "source": [
    "import os\n",
    "import json\n",
    "import requests"
   ]
  },
  {
   "cell_type": "code",
   "execution_count": 20,
   "metadata": {},
   "outputs": [],
   "source": [
    "%matplotlib inline\n",
    "%config Completer.use_jedi = False"
   ]
  },
  {
   "cell_type": "code",
   "execution_count": 32,
   "metadata": {},
   "outputs": [],
   "source": [
    "# who sends an nft (so, the nft owner and who wants to send a present, i.e. sender)\n",
    "SENDER_PRIVATE_KEY=\"\n",
    "SENDER_ADDRESS=\""
   ]
  },
  {
   "cell_type": "code",
   "execution_count": 33,
   "metadata": {},
   "outputs": [],
   "source": [
    "# the centralized backend\n",
    "BACK_ADDRESS = \"\n",
    "BACK_PRIVATE = \""
   ]
  },
  {
   "cell_type": "code",
   "execution_count": 34,
   "metadata": {},
   "outputs": [],
   "source": [
    "# receiver?\n",
    "MY_ACC_PRIVATE = \n",
    "MY_ACC_ADDRESS = "
   ]
  },
  {
   "cell_type": "code",
   "execution_count": 43,
   "metadata": {},
   "outputs": [],
   "source": [
    "link = \"https://rinkeby.rarible.com/token/0x509fd4cdaa29be7b1fad251d8ea0fca2ca91eb60:111795?tab=details\"\n",
    "numbers = link.split('/')[-1].split(':')\n",
    "nft_contract, nft_token = numbers[0], numbers[1].split('?')[0]"
   ]
  },
  {
   "cell_type": "code",
   "execution_count": 36,
   "metadata": {},
   "outputs": [
    {
     "data": {
      "text/plain": [
       "('0x509fd4cdaa29be7b1fad251d8ea0fca2ca91eb60', '111795')"
      ]
     },
     "execution_count": 36,
     "metadata": {},
     "output_type": "execute_result"
    }
   ],
   "source": [
    "nft_contract, nft_token"
   ]
  },
  {
   "cell_type": "code",
   "execution_count": 45,
   "metadata": {},
   "outputs": [],
   "source": [
    "# create contract from a backend, so only this backend can call the one\n",
    "# after the deploy: save the contract address\n",
    "data = {\n",
    "    \"debug\": \"NO\",\n",
    "    \"private_ext\": BACK_PRIVATE\n",
    "}\n",
    "r = requests.post(\"http://localhost:8001/deploy\", json=data)"
   ]
  },
  {
   "cell_type": "code",
   "execution_count": 46,
   "metadata": {},
   "outputs": [
    {
     "data": {
      "text/plain": [
       "'0x0264837577091a402a6A62738a9e5Fecad107407'"
      ]
     },
     "execution_count": 46,
     "metadata": {},
     "output_type": "execute_result"
    }
   ],
   "source": [
    "transfer_contract = json.loads(r.content.decode())[\"link\"]\n",
    "transfer_contract"
   ]
  },
  {
   "cell_type": "code",
   "execution_count": 47,
   "metadata": {},
   "outputs": [],
   "source": [
    "# todo: hardcode\n",
    "# transfer_contract = \"0xd4Ba7daA7F3A5DbE2453210C4D458959687C20a6\""
   ]
  },
  {
   "cell_type": "markdown",
   "metadata": {},
   "source": [
    "## User Flow"
   ]
  },
  {
   "cell_type": "code",
   "execution_count": 52,
   "metadata": {},
   "outputs": [
    {
     "data": {
      "text/plain": [
       "(<Response [200]>, b'{\"status\":\"OK\"}')"
      ]
     },
     "execution_count": 52,
     "metadata": {},
     "output_type": "execute_result"
    }
   ],
   "source": [
    "# add permission to the contract (and only to the one) call transfer (so permission from nft owner).\n",
    "# !The sender should be nft owner\n",
    "# PS. it is possible to combine with the following (but no win?)\n",
    "data = {\n",
    "    \"debug\": \"NO\",\n",
    "    \"private_ext\": SENDER_PRIVATE_KEY,\n",
    "    \"owner_address\": transfer_contract,\n",
    "    \"nft_contract\": nft_contract,\n",
    "    \"nft_token\": nft_token,\n",
    "}\n",
    "r = requests.post(\"http://localhost:8001/permission\", json=data)\n",
    "r, r.content"
   ]
  },
  {
   "cell_type": "code",
   "execution_count": 53,
   "metadata": {},
   "outputs": [
    {
     "data": {
      "text/plain": [
       "(<Response [200]>, b'{\"status\":\"OK\"}')"
      ]
     },
     "execution_count": 53,
     "metadata": {},
     "output_type": "execute_result"
    }
   ],
   "source": [
    "# set up pasword hash stright into contarct\n",
    "# so, the password may know only sender and receiver: no need to believe to our back-end\n",
    "sender_password = \"TEST_PASSWORD\"\n",
    "\n",
    "data = {\n",
    "    \"transfer_contract\": transfer_contract,\n",
    "    \"password\": sender_password,\n",
    "    \"nft_contract\": nft_contract,\n",
    "    \"token\": nft_token,\n",
    "    \"private_ext\": SENDER_PRIVATE_KEY\n",
    "}\n",
    "r = requests.post(\"http://localhost:8001/setpassword\", json=data)\n",
    "r, r.content"
   ]
  },
  {
   "cell_type": "code",
   "execution_count": 54,
   "metadata": {},
   "outputs": [
    {
     "data": {
      "text/plain": [
       "(<Response [200]>, b'{\"status\":\"OK\"}')"
      ]
     },
     "execution_count": 54,
     "metadata": {},
     "output_type": "execute_result"
    }
   ],
   "source": [
    "# book a gift for a receiver.\n",
    "# We do it centralized with our back-end, so backend validate that receiver is preferable that sender wanted to (e.g. with help of created password)\n",
    "# We send money (per gas) to the validated receiver (to his public address)\n",
    "data = {\n",
    "    \"transfer_contract\": transfer_contract,\n",
    "    \"receiver\": MY_ACC_ADDRESS,\n",
    "    \"nft_contract\": nft_contract,\n",
    "    \"token\": nft_token,\n",
    "    \"private_ext\": BACK_PRIVATE\n",
    "}\n",
    "r = requests.post(\"http://localhost:8001/book\", json=data)\n",
    "r, r.content"
   ]
  },
  {
   "cell_type": "code",
   "execution_count": 55,
   "metadata": {},
   "outputs": [
    {
     "data": {
      "text/plain": [
       "(<Response [200]>, b'{\"status\":\"OK\"}')"
      ]
     },
     "execution_count": 55,
     "metadata": {},
     "output_type": "execute_result"
    }
   ],
   "source": [
    "# do the transfer to receiver address.\n",
    "# It may be called local from receiver frontend coz we sent him money so he able to proceed gas payment\n",
    "data = {\n",
    "    \"transfer_contract\": transfer_contract,\n",
    "    \"receiver\": MY_ACC_ADDRESS,\n",
    "    \"sender\": SENDER_ADDRESS,\n",
    "    \"nft_contract\": nft_contract,\n",
    "    \"token\": nft_token,\n",
    "    \"password\": sender_password,\n",
    "    \"private_ext\": MY_ACC_PRIVATE\n",
    "}\n",
    "r = requests.post(\"http://localhost:8001/dtransfer\", json=data)\n",
    "r, r.content"
   ]
  },
  {
   "cell_type": "code",
   "execution_count": null,
   "metadata": {},
   "outputs": [],
   "source": []
  }
 ],
 "metadata": {
  "kernelspec": {
   "display_name": "Python 3",
   "language": "python",
   "name": "python3"
  },
  "language_info": {
   "codemirror_mode": {
    "name": "ipython",
    "version": 3
   },
   "file_extension": ".py",
   "mimetype": "text/x-python",
   "name": "python",
   "nbconvert_exporter": "python",
   "pygments_lexer": "ipython3",
   "version": "3.9.6"
  }
 },
 "nbformat": 4,
 "nbformat_minor": 4
}
